{
 "cells": [
  {
   "cell_type": "code",
   "execution_count": 35,
   "metadata": {},
   "outputs": [
    {
     "name": "stderr",
     "output_type": "stream",
     "text": [
      "[WDM] - Current google-chrome version is 83.0.4103\n",
      "[WDM] - Get LATEST driver version for 83.0.4103\n",
      "[WDM] - Driver [C:\\Users\\shrikanth\\.wdm\\drivers\\chromedriver\\win32\\83.0.4103.39\\chromedriver.exe] found in cache\n"
     ]
    },
    {
     "name": "stdout",
     "output_type": "stream",
     "text": [
      " \n"
     ]
    }
   ],
   "source": [
    "from selenium import webdriver\n",
    "from selenium.common.exceptions import NoSuchElementException\n",
    "from selenium.webdriver.common.by import By\n",
    "from selenium.webdriver.support.ui import WebDriverWait\n",
    "from selenium.webdriver.support import expected_conditions as EC\n",
    "import dateutil.parser\n",
    "import time\n",
    "import csv\n",
    "from datetime import datetime\n",
    "import io\n",
    "from selenium.webdriver.chrome.options import Options\n",
    "from webdriver_manager.chrome import ChromeDriverManager\n",
    "driver = webdriver.Chrome(ChromeDriverManager().install())\n",
    "driver.get('https://www.reuters.com/news/archive/politicsnews?view=page&page=11&pageSize=20')"
   ]
  },
  {
   "cell_type": "code",
   "execution_count": 37,
   "metadata": {},
   "outputs": [],
   "source": [
    "headlines =[]\n",
    "article_content = []\n",
    "dates = []\n",
    "for x in range(10):\n",
    "    try:\n",
    "        loadMoreButton = driver.find_element_by_class_name(\"control-nav-next\")\n",
    "        time.sleep(3)\n",
    "        loadMoreButton.click()\n",
    "        time.sleep(2)\n",
    "        news_headlines = driver.find_elements_by_class_name(\"story-title\")\n",
    "        news_content = driver.find_elements_by_tag_name(\"p\")\n",
    "        news_dates = driver.find_elements_by_class_name(\"timestamp\")\n",
    "        for headline in news_headlines:\n",
    "            headlines.append(headline.text)\n",
    "            #print(headline.text)\n",
    "        for content in news_content:\n",
    "            article_content.append(content.text)\n",
    "        for date in news_dates:\n",
    "            dates.append(date.text)\n",
    "                \n",
    "    except Exception as e:\n",
    "        print(e)\n",
    "        break\n",
    "    \n"
   ]
  },
  {
   "cell_type": "code",
   "execution_count": 38,
   "metadata": {},
   "outputs": [
    {
     "data": {
      "text/plain": [
       "130"
      ]
     },
     "execution_count": 38,
     "metadata": {},
     "output_type": "execute_result"
    }
   ],
   "source": [
    "len(article_content)"
   ]
  },
  {
   "cell_type": "code",
   "execution_count": null,
   "metadata": {},
   "outputs": [],
   "source": []
  }
 ],
 "metadata": {
  "kernelspec": {
   "display_name": "Python 3",
   "language": "python",
   "name": "python3"
  },
  "language_info": {
   "codemirror_mode": {
    "name": "ipython",
    "version": 3
   },
   "file_extension": ".py",
   "mimetype": "text/x-python",
   "name": "python",
   "nbconvert_exporter": "python",
   "pygments_lexer": "ipython3",
   "version": "3.7.3"
  }
 },
 "nbformat": 4,
 "nbformat_minor": 4
}
