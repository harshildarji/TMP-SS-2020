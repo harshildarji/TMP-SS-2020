{
 "cells": [
  {
   "cell_type": "code",
   "execution_count": 29,
   "metadata": {},
   "outputs": [
    {
     "name": "stderr",
     "output_type": "stream",
     "text": [
      "[WDM] - Current google-chrome version is 83.0.4103\n",
      "[WDM] - Get LATEST driver version for 83.0.4103\n",
      "[WDM] - Driver [C:\\Users\\shrikanth\\.wdm\\drivers\\chromedriver\\win32\\83.0.4103.39\\chromedriver.exe] found in cache\n"
     ]
    },
    {
     "name": "stdout",
     "output_type": "stream",
     "text": [
      " \n"
     ]
    }
   ],
   "source": [
    "from selenium import webdriver\n",
    "from selenium.common.exceptions import NoSuchElementException\n",
    "from selenium.webdriver.common.by import By\n",
    "from selenium.webdriver.support.ui import WebDriverWait\n",
    "from selenium.webdriver.support import expected_conditions as EC\n",
    "import dateutil.parser\n",
    "import time\n",
    "import csv\n",
    "from datetime import datetime\n",
    "import io\n",
    "from selenium.webdriver.chrome.options import Options\n",
    "from webdriver_manager.chrome import ChromeDriverManager\n",
    "driver = webdriver.Chrome(ChromeDriverManager().install())\n",
    "driver.get('https://www.reuters.com/news/archive/politicsnews?view=page&page=11&pageSize=20')"
   ]
  },
  {
   "cell_type": "code",
   "execution_count": 30,
   "metadata": {
    "collapsed": true,
    "jupyter": {
     "outputs_hidden": true
    }
   },
   "outputs": [
    {
     "name": "stdout",
     "output_type": "stream",
     "text": [
      "Exclusive: In warning sign for Trump, Republicans growing pessimistic about country's direction\n",
      "New York City mayor ends 8 p.m. curfew a day early\n",
      "U.S. Democrats, black lawmakers ready response to George Floyd death\n",
      "Senior Trump aide apologizes for promoting racially-charged video\n",
      "Britain's Banksy depicts U.S. flag on fire in Floyd tribute\n",
      "Biden wins enough delegates to clinch U.S. Democratic nomination\n",
      "Twitter, Facebook disable Trump video tribute to Floyd over copyright complaint\n",
      "Citigroup closes some branches, mostly in LA and Chicago, due to George Floyd protests\n",
      "Pentagon orders remaining active-duty troops to leave Washington area\n",
      "Electric skateboard-mounted trash collector among U.S. protest volunteers\n",
      "Fed's Powell scheduled for congressional appearances June 16-17\n",
      "Biden says 'much more work to be done' on economy after surprising jobs report\n",
      "Trump touts job gains as 'greatest comeback in American history'\n",
      "U.S. appeals court blocks White House from suspending reporter's press pass\n",
      "Factbox: Where are people around the world protesting over George Floyd?\n",
      "Delta CEO, in employee memo, pledges stand against racism and injustice\n",
      "Republican senator Murkowski 'struggling' over whether to back Trump in election\n",
      "Floyd death sparks Democratic, Republican calls in U.S. Congress for action on policing\n",
      "Trump strategizes with campaign advisers on re-election amid growing challenges\n",
      "Republican-led Senate confirms divisive Trump broadcasting nominee Pack\n",
      "Military brass clashing publicly with a president is rare in America\n",
      "U.S. senators move to tighten sanctions on delayed Russia-to-Germany gas pipeline\n",
      "Chinese and Iranian hackers targeted Biden and Trump campaigns, Google says\n",
      "Grassley blocks nominees over Trump's inspector general firings\n",
      "A triple whammy of crises tests Trump's support ahead of November's election\n",
      "U.S. lawmaker prepares bill aiming to end court protection for police\n",
      "Ukraine found no evidence against Hunter Biden in case audit: former top prosecutor\n",
      "In rare bipartisan bill, U.S. senators tackle climate change via agriculture\n",
      "U.S. states see major challenge in delivering record mail ballots in November\n",
      "Fundraisers say donations to Biden surge as George Floyd protests sweep country\n",
      "After long silence, Mattis denounces Trump and military response to crisis\n",
      "Fired U.S. State Department watchdog confirms probe of Saudi arms sale\n",
      "Republicans blast FBI Russia probe as Rosenstein defends Mueller\n",
      "Senate passes bill lengthening coronavirus small-business loan terms\n",
      "Obama calls on all U.S. mayors to pursue policing reforms in wake of protests\n",
      "Trump to accept Republican presidential nomination outside of North Carolina\n",
      "Confusion, long lines at some poll sites as eight U.S. states vote during coronavirus pandemic\n",
      "NY governor allows outdoor dining in phase two, jabs at Trump Bible photo\n",
      "Democrats' bid to pass coronavirus small business bill stalls in Senate\n",
      "U.S. House to vote on infrastructure funding plan in July\n",
      "White House says Defense Secretary Esper still in post\n",
      "Ex-spy Plame loses bid for House of Representatives\n",
      "Controversial Republican congressman Steve King ousted in Iowa primary\n",
      "Trump says Republican convention will not be held in North Carolina\n",
      "Factbox: Eight U.S. states hold primaries for seats in Congress\n",
      "Perils for Pentagon as Trump threatens to militarize response to civil unrest\n",
      "With rallies halted and tweets fact-checked, Trump campaign turns to smartphone app\n",
      "Trump says Republican convention will not be held in North Carolina\n",
      "Factbox: Seven U.S. states hold primaries for seats in Congress\n",
      "Biden vows to heal racial wounds, rips Trump as divisive: 'Is this who we want to be?'\n",
      "House Democrat moves to cut Attorney General Barr's budget by $50 million\n",
      "Former President Bush, contrasting Trump approach, says protesters should be heard\n",
      "Senate Republicans block bill condemning Trump over protesters\n",
      "Senate Republicans block move to condemn Trump on force against peaceful protesters\n",
      "U.S. senator wants defense bill to ban use of military against peaceful protests\n",
      "Former rival Julian Castro endorses Biden as best candidate to reform policing\n",
      "Explainer: Can Trump send the U.S. military to quell violence at protests?\n",
      "U.S. lawmakers say Uighur bill supports China's Muslims\n",
      "As racial tensions turn violent, a careful balancing act for Biden\n",
      "Biden meets black leaders, promises to earn African-American support amid protests\n",
      "An Oval Office speech? Trump's advisers torn over how to address protests\n",
      "U.S. judge no 'mere rubber stamp' in case of ex-Trump aide Flynn, lawyers say\n",
      "U.S. DOJ urges appeals court to end case against ex-Trump aide Flynn\n",
      "Protests elevate Bottoms and Demings as possible Biden running mates\n",
      "U.S. Senate leader hopes for quick passage of House coronavirus small business bill\n",
      "U.S. judge defends handling of case against ex-Trump adviser Flynn\n",
      "Trump faces election risks in looming Supreme Court ruling on 'Dreamers'\n",
      "Factbox: Who are immigrant 'Dreamers' and why is their fate tied to the U.S. Supreme Court?\n",
      "Trump's push to regulate social media faces uphill battle at FCC\n",
      "Former Chinese official extradited to U.S. on money laundering, fraud charges: DOJ\n",
      "Factbox: Where do Trump and Biden stand on tech policy issues?\n",
      "Exclusive: Philadelphia's new voting machines under scrutiny in Tuesday's elections\n",
      "Democrat Biden visits site of police brutality protest in Delaware\n",
      "Biden staff donate to group that pays bail in riot-torn Minneapolis\n",
      "Biden urged to pick black VP, not Klobuchar as Minneapolis killing stokes racial tensions\n",
      "Sen. Cruz seeks federal Twitter probe as Trump feuds with company\n",
      "Florida governor asks court to stay felon voting ruling\n",
      "House Democrats launch inquiry into Medicare stimulus payouts\n",
      "Young Minneapolis mayor in spotlight after police killing, protests\n",
      "Trump ex-adviser Flynn asked Russia to avoid 'tit-for-tat,' new transcript shows\n",
      "Trump orders his administration to begin eliminating Hong Kong privileges\n",
      "U.S. senators urge probe of TikTok on children's privacy\n",
      "Democrats want interviews with Trump admin officials over watchdog firing\n",
      "North Carolina Democrats 'dragging their feet' on convention rules, RNC chief says\n",
      "Black voters don't trust mail ballots. That's a problem for Democrats\n",
      "Biden losing economic argument to Trump as U.S. begins to re-open\n",
      "House Democrats demand probes of police killings of black Americans\n",
      "Former U.S. officials question DOJ's probe of 'unmasking' of Trump ally\n",
      "On this day... May 30\n",
      "Trump move could scrap or weaken law that protects social media companies\n",
      "Pompeo accuses top Democrat of 'hackery' over government watchdog review\n",
      "First Latina U.S. senator withdraws name from Biden's running mate list\n",
      "Factbox: Biden wants a woman to be his running mate. Here are some names under consideration\n",
      "U.S. senators offer bill to prepare for the next pandemic\n",
      "Trump's order taking aim at Twitter is 'bluster': legal experts\n",
      "Government surveillance bill withdrawn in U.S. House\n",
      "Trump directs AG to boost enforcement of state laws on social media companies\n",
      "Trump could sign order on social media companies later on Thursday: White House\n",
      "Texas Supreme Court blocks ruling that expanded voting by mail\n",
      "Bid to extend U.S. surveillance tools stalls after Trump threatens veto\n"
     ]
    }
   ],
   "source": [
    "headlines =[]\n",
    "article_content = []\n",
    "dates = []\n",
    "for x in range(10):\n",
    "    try:\n",
    "        loadMoreButton = driver.find_element_by_class_name(\"control-nav-next\")\n",
    "        time.sleep(3)\n",
    "        loadMoreButton.click()\n",
    "        time.sleep(2)\n",
    "        news_headlines = driver.find_elements_by_class_name(\"story-title\")\n",
    "        news_content = driver.find_elements_by_tag_name(\"p\")\n",
    "        news_dates = driver.find_elements_by_class_name(\"timestamp\")\n",
    "        for headline in news_headlines:\n",
    "            headlines.append(headline.text)\n",
    "            print(headline.text)\n",
    "        for content in news_content:\n",
    "            article_content.append(content.text)\n",
    "        for date in news_dates:\n",
    "            dates.append(date.text)\n",
    "                \n",
    "    except Exception as e:\n",
    "        print(e)\n",
    "        break\n",
    "    \n"
   ]
  },
  {
   "cell_type": "code",
   "execution_count": null,
   "metadata": {},
   "outputs": [],
   "source": []
  }
 ],
 "metadata": {
  "kernelspec": {
   "display_name": "Python 3",
   "language": "python",
   "name": "python3"
  },
  "language_info": {
   "codemirror_mode": {
    "name": "ipython",
    "version": 3
   },
   "file_extension": ".py",
   "mimetype": "text/x-python",
   "name": "python",
   "nbconvert_exporter": "python",
   "pygments_lexer": "ipython3",
   "version": "3.7.3"
  }
 },
 "nbformat": 4,
 "nbformat_minor": 4
}
